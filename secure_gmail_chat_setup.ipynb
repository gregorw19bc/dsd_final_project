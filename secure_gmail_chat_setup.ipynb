{
 "cells": [
  {
   "cell_type": "markdown",
   "id": "06128b61",
   "metadata": {},
   "source": [
    "## Setting up Gmail for use\n",
    "\n",
    "This notebook is just a quick run through of the necessary setup to get the full, secure gmail chat to work correctly. Run through it to make sure you installed everything correctly before running the sending and receiving scripts. \n",
    "\n",
    "### Step 1: Install Required Python Libraries"
   ]
  },
  {
   "cell_type": "code",
   "execution_count": null,
   "id": "a5c48ac7",
   "metadata": {},
   "outputs": [],
   "source": [
    "!pip install --upgrade google-api-python-client google-auth google-auth-httplib2 google-auth-oauthlib"
   ]
  },
  {
   "cell_type": "markdown",
   "id": "d45af93b",
   "metadata": {},
   "source": [
    "### Step 2: Set Up Gmail API Credentials\n",
    "\n",
    "1. Go to https://console.cloud.google.com/\n",
    "2. Create a new project (any name, like \"SecureChat\").\n",
    "3. Navigate to APIs & Services -> Library.\n",
    "4. Search for \"Gmail API\" -> Enable it.\n",
    "5. Go to APIs & Services -> OAuth consent screen:\n",
    "    - User type: External\n",
    "    - Fill in basic app info.\n",
    "    - Add your Gmail as a test user.\n",
    "6. Go to APIs & Services -> Credentials:\n",
    "    - Create Credentials -> OAuth Client ID -> Application type: Desktop App\n",
    "    - Download the credentials.json file (you may have to rename it)\n",
    "7. Place credentials.json into the same folder as this notebook.\n"
   ]
  },
  {
   "cell_type": "markdown",
   "id": "858ff680",
   "metadata": {},
   "source": [
    "### Step 3: Authorize Gmail API and Send Test Email\n",
    "\n",
    "#### 3.1 Authenticate and Build Gmail Service\n",
    "\n",
    "This is just a quick test to make sure you've done everything correctly"
   ]
  },
  {
   "cell_type": "code",
   "execution_count": 1,
   "id": "aedd932e",
   "metadata": {},
   "outputs": [
    {
     "name": "stdout",
     "output_type": "stream",
     "text": [
      "Please visit this URL to authorize this application: https://accounts.google.com/o/oauth2/auth?response_type=code&client_id=807193860783-jcs7h83ejmsg9gs1k99p7deor7ko0eor.apps.googleusercontent.com&redirect_uri=http%3A%2F%2Flocalhost%3A50632%2F&scope=https%3A%2F%2Fwww.googleapis.com%2Fauth%2Fgmail.send&state=AdylKnvoiETY75CluiVsHEH9xdApae&access_type=offline\n",
      "Gmail service created successfully!\n"
     ]
    }
   ],
   "source": [
    "from google_auth_oauthlib.flow import InstalledAppFlow\n",
    "from googleapiclient.discovery import build\n",
    "import base64\n",
    "from email.mime.text import MIMEText\n",
    "import os\n",
    "\n",
    "SCOPES = ['https://www.googleapis.com/auth/gmail.send']\n",
    "\n",
    "def get_gmail_service():\n",
    "    creds = None\n",
    "    if os.path.exists('token.json'):\n",
    "        from google.oauth2.credentials import Credentials\n",
    "        creds = Credentials.from_authorized_user_file('token.json', SCOPES)\n",
    "    if not creds or not creds.valid:\n",
    "        flow = InstalledAppFlow.from_client_secrets_file('credentials.json', SCOPES)\n",
    "        creds = flow.run_local_server(port=0)\n",
    "        with open('token.json', 'w') as token:\n",
    "            token.write(creds.to_json())\n",
    "    service = build('gmail', 'v1', credentials=creds)\n",
    "    return service\n",
    "\n",
    "service = get_gmail_service()\n",
    "print(\"Gmail service created successfully!\")"
   ]
  },
  {
   "cell_type": "markdown",
   "id": "5e96a0e7",
   "metadata": {},
   "source": [
    "## How to use the repo\n",
    "\n",
    "To use this repo, it is recommended that you read through `key_exchange_basic`, we well as `key_methods` to get a good sense of how this exchange algorithm works, and how it is implemented here.\n",
    "\n",
    "As for running the scripts that fully implement they key exchange, the `sender.py` and `receiver.py` will prompt you for every piece of input they need. Have the person sending the message run `sender.py`, and the person receiving it run `receiver.py`, and you will give any input necessary in the terminal. Note that you will need two different email accounts in order to send messages back and forth."
   ]
  }
 ],
 "metadata": {
  "kernelspec": {
   "display_name": "Python 3",
   "language": "python",
   "name": "python3"
  },
  "language_info": {
   "codemirror_mode": {
    "name": "ipython",
    "version": 3
   },
   "file_extension": ".py",
   "mimetype": "text/x-python",
   "name": "python",
   "nbconvert_exporter": "python",
   "pygments_lexer": "ipython3",
   "version": "3.10.11"
  }
 },
 "nbformat": 4,
 "nbformat_minor": 5
}
