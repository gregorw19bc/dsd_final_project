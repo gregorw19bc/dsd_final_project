{
 "cells": [
  {
   "cell_type": "code",
   "execution_count": 1,
   "id": "b7e3b9b2",
   "metadata": {},
   "outputs": [],
   "source": [
    "import base64\n",
    "from hashlib import shake_256\n",
    "import hmac, hashlib, secrets"
   ]
  },
  {
   "cell_type": "markdown",
   "id": "25f32eed",
   "metadata": {},
   "source": [
    "## Key Methods\n",
    "\n",
    "This is a notebook that contains a bunch of helpful methods for both the explanation of the key exchange algorithm and the actual implementation of that algoritm. It contains conversions between some of these types:\n",
    "\n",
    "1. $\\mathbb{Z}$: Integers\n",
    "\n",
    "2. $\\mathbb{Y}:$ Python `bytes` object\n",
    "\n",
    "3. $\\mathbb{B}:$ Strings that use the subset of ASCII characters from the url-safe version of Base64. \n",
    "\n",
    "4. $\\mathbb{S}:$ Strings\n",
    "\n",
    "It also contains methods to generate keys, as well as an XOR function and functions for `HMAC`."
   ]
  },
  {
   "cell_type": "markdown",
   "id": "d110872d",
   "metadata": {},
   "source": [
    "### Conversion Functions\n",
    "\n",
    "Having functions to convert between different types is very important in this process, as this key exchange algorithm is constantly changing the types of the keys and the encrypted messages. There are four conversion functions, mainly involving translating to and from bytes.\n",
    "\n",
    "First is the function to convert an integer to a Python `bytes` object, which isn't very readable as you'll see, but many cryptographic functions take a `bytes` object as their input, so it's quite a useful conversion to have. The reverse is also important, to make the bytes mean something to humans. In math notation:\n",
    "\\begin{align}\n",
    "\\mathbb{Z} \\rightarrow \\mathbb{Y}\\\\\n",
    "\\mathbb{Y} \\rightarrow \\mathbb{Z}\\\\\n",
    "\\end{align}"
   ]
  },
  {
   "cell_type": "code",
   "execution_count": null,
   "id": "d627eb77",
   "metadata": {},
   "outputs": [],
   "source": [
    "def int_to_bytes(n: int) -> bytes:\n",
    "    return n.to_bytes((n.bit_length() + 7) // 8, byteorder='big')\n",
    "def bytes_to_int(b: bytes) -> int:\n",
    "    return int.from_bytes(b, byteorder='big')"
   ]
  },
  {
   "cell_type": "markdown",
   "id": "7736eb1b",
   "metadata": {},
   "source": [
    "In the code above, the `bit_length` function above returns the number of bits needed to represent whatever it is called on. We then add seven and floor divide by eight. This step converts the length in bits to the length in bytes, and rounds up to the nearest whole byte. The `'big'` argument makes it so that the array is a **big-endian byte array**. All this means is that they most significant byte comes first, and this is standard in moth cryptographic settings.\n",
    "\n",
    "To give an example, big-endian is the order in which we store our numbers. For the number 2054, we store the 2 first. since it represents two thousand, which is the biggest number. All of our numbers are stored in big-endian order, so this should feel familiar, even if it's not immediately obvious when looking at a byte string.\n",
    "\n",
    "Within this byte representation, however, not all of the characters are ASCII characters, which can cause issues when transmitting data over email. Additionally, byte encoded messages are generally very long, so we convert the byte representation to Base64. This encoding contains all the same data, but in all ASCII characters, and in a more condensed format. The `decode` function is then used to convert the `Base64` number into a UTF-8 string, which can be sent over email. Having the reverse is also useful for the receiver, who can then convert the message back into bytes to decode. In math notation:\n",
    "\\begin{align}\n",
    "\\mathbb{Y} \\rightarrow \\mathbb{B}\\\\\n",
    "\\mathbb{B} \\rightarrow \\mathbb{Y}\\\\\n",
    "\\end{align}"
   ]
  },
  {
   "cell_type": "code",
   "execution_count": null,
   "id": "0a024210",
   "metadata": {},
   "outputs": [],
   "source": [
    "def bytes_to_Base64(n: bytes) -> str:\n",
    "    return base64.b64encode(n).decode()\n",
    "\n",
    "def Base64_to_bytes(n: str) -> bytes:\n",
    "    return base64.b64decode(n)"
   ]
  },
  {
   "cell_type": "markdown",
   "id": "1148ad8d",
   "metadata": {},
   "source": [
    "Converting from regular `String` objects to bytes is necessary as well, since that is what allows us to encode our messages in bytes, and manipulate them with cryptographic functions:\n",
    "\\begin{align}\n",
    "\\mathbb{S} \\rightarrow \\mathbb{Y}\\\\\n",
    "\\mathbb{Y} \\rightarrow \\mathbb{S}\\\\\n",
    "\\end{align}"
   ]
  },
  {
   "cell_type": "code",
   "execution_count": null,
   "id": "12ea87c5",
   "metadata": {},
   "outputs": [],
   "source": [
    "def str_to_bytes(s: str) -> bytes:\n",
    "    return s.encode('utf-8')\n",
    "\n",
    "def bytes_to_str(b: bytes) -> str:\n",
    "    return b.decode('utf-8')"
   ]
  },
  {
   "cell_type": "markdown",
   "id": "9bf4d2ab",
   "metadata": {},
   "source": [
    "These functions act as wrappers for the Python `encode` and `decode` functions, but their function signature is meant to add some clarity to the function they perform. The argument `'utf-8'` specifies how the string the function is given should be interpreted. `'uft-8'` is generally the standard encoding for strings these days, although you will see `'ascii'` as well sometimes.\n",
    "\n",
    "Also included here is a function to convert a very large integer to its scientific notation. Python's `int` type has arbitrary precision, so it can represent some absolutely massive numbers. Python's `float`, however, cannot do that, and thus it is impossible to convert a very large `int` to `float`. This function uses the Python `fstring` to represent an `int` in scientific notation:"
   ]
  },
  {
   "cell_type": "code",
   "execution_count": null,
   "id": "0bf672fb",
   "metadata": {},
   "outputs": [],
   "source": [
    "def print_large_int_sci(x, digits=5):\n",
    "    s = str(x)\n",
    "    exponent = len(s) - 1\n",
    "    mantissa = s[:digits]\n",
    "    return f\"{mantissa[0]}.{mantissa[1:]}e+{exponent}\""
   ]
  },
  {
   "cell_type": "markdown",
   "id": "eb4e4547",
   "metadata": {},
   "source": [
    "### Other Necessary Cryptographic Functions\n",
    "\n",
    "Now that we have ways to manipulate our data into different data types, we also need some functions that actually perform the operations necessary for this key exchange algorithm. \n",
    "\n",
    "First is the `generate_keystream` function, which will generate a variable length `bytes` object from the `bytes` representation of a message we want to send:"
   ]
  },
  {
   "cell_type": "code",
   "execution_count": null,
   "id": "27443cb3",
   "metadata": {},
   "outputs": [],
   "source": [
    "def generate_keystream(secret_bytes: bytes, length: int, nonce: bytes = b\"\") -> bytes:\n",
    "    return shake_256(nonce + secret_bytes).digest(length)"
   ]
  },
  {
   "cell_type": "markdown",
   "id": "e80b1701",
   "metadata": {},
   "source": [
    "To generate our keystream, we need a hash function that will map the bytes of our message to a seemingly random. We will do this using the `shake256` hash function, which we can depict with $H$. This function is great because it has a variable output length, so our message can be different lengths. the `digest` function lets us choose the amount of bytes in the output keystream. We first encode our message in bytes, then convert it to a keystream of the same length.\n",
    "\n",
    "A hash function is used here so that our final keys look indistinguishable from random, and they also remove any possible structure that could be gleamed from our message. Our function also includes input for a nonce. A nonce is important to include to patch some security holes in the algorithm, and you can read more about them in the potential issues section of the `key_exchange_basic` notebook. \n",
    "\n",
    "In this algorithm, we also need to define an XOR function, which can be symbolized with this: $\\oplus$. We define it on a `Base64` representation of a message and a `bytes` object, generally a `keystream`, such that when applied, it applies the XOR function bit by bit through the both objects, and it outputs a new object, also of the `bytes` type:\n",
    "\\begin{align}\n",
    "\\mathbb{B} \\oplus \\mathbb{Y} \\rightarrow \\mathbb{Y} \\\\\n",
    "\\end{align}\n"
   ]
  },
  {
   "cell_type": "code",
   "execution_count": null,
   "id": "6b6c51ef",
   "metadata": {},
   "outputs": [],
   "source": [
    "def xor_bytes(b64_bytes: bytes, keystream: bytes) -> bytes:\n",
    "    return bytes(m ^ k for m, k in zip(b64_bytes, keystream))"
   ]
  },
  {
   "cell_type": "markdown",
   "id": "4f8131fa",
   "metadata": {},
   "source": [
    "The `zip` function above is used to loop over the two `bytes` objects simultaneously. \n",
    "\n",
    "### HMAC\n",
    "\n",
    "Lastly are our `MAC` functions, which are essential for ensuring that our messages are not tampered with in transit. A more in depth explanation about their necessity is in the potential issues section of the `key_exchange_basic` notebook. \n",
    "\n",
    "This first function, `create_mac`, is used to create a MAC object from our `keystream`, our message as a `bytes` object with the nonce added to it, call it `message_blob`, and a hashing function to use, which in this case is the `sha256` algorithm:\n",
    "\n",
    "$$\n",
    "\\begin{align*}\n",
    "\\text{HMAC}_{\\text{keystream}}(\\text{message}\\_ \\text{blob}) \n",
    "&= H\\left((\\text{keystream} \\oplus \\text{opad}) \\,\\|\\, \\right. \\\\\n",
    "&\\quad \\left. H((\\text{keystream} \\oplus \\text{ipad}) \\,\\|\\, \\text{message}\\_  \\text{blob})\\right)\n",
    "\\end{align*}\n",
    "$$\n",
    "\n",
    "Where:\n",
    "\n",
    "- \\( H \\): cryptographic hash function (e.g., SHA-256)\n",
    "- \\( K' \\): the key \\( K \\), padded or truncated to the block size (typically 64 bytes)\n",
    "- \\( opad \\): outer padding (`0x5c` repeated to block size)\n",
    "- \\( ipad \\): inner padding (`0x36` repeated to block size)\n",
    "- \\( $\\oplus$ \\): byte-wise XOR\n",
    "- \\( $ \\| $ \\): byte concatenation\n",
    "\n",
    "HMAC ensures both **message integrity** and **authenticity**.\n",
    "\n",
    "What this HMAC function does:\n",
    "\n",
    "1. **Prepare the key**:\n",
    "   - If \\( K \\) is longer than the block size, hash it: \\( K' = H(K) \\)\n",
    "   - If shorter, pad with zero bytes to the block size\n",
    "\n",
    "2. **Inner hash**:\n",
    "   - \\( \\text{inner} = H((K' \\oplus \\text{ipad}) \\,\\|\\, M) \\)\n",
    "\n",
    "3. **Outer hash**:\n",
    "   - \\( \\text{HMAC}_K(M) = H((K' \\oplus \\text{opad}) \\,\\|\\, \\text{inner}) \\)\n",
    "\n",
    "This construction prevents length-extension attacks and is secure even if \\( H \\) itself has certain weaknesses.\n"
   ]
  },
  {
   "cell_type": "code",
   "execution_count": null,
   "id": "7350586a",
   "metadata": {},
   "outputs": [],
   "source": [
    "def create_mac(key_bytes: bytes, blob: bytes):\n",
    "    return hmac.new(key_bytes, blob, hashlib.sha256).hexdigest()\n",
    "\n",
    "def verify_mac(secret_bytes: bytes, data: bytes, mac: str) -> bool:\n",
    "    return hmac.compare_digest(create_mac(secret_bytes, data), mac)"
   ]
  },
  {
   "cell_type": "markdown",
   "id": "ba4ef745",
   "metadata": {},
   "source": [
    "The `hexdigest` function returns our `HMAC` in a 64 character hexadecimal output. \n",
    "\n",
    "The `verify_mac` function simply compares the `HMAC` created on the local machine to the one received from the sender to make sure they match.\n",
    "\n",
    "All of these functions are essential in creating a readable, concise description of our key exchange algorithm. "
   ]
  }
 ],
 "metadata": {
  "kernelspec": {
   "display_name": "Python 3",
   "language": "python",
   "name": "python3"
  },
  "language_info": {
   "codemirror_mode": {
    "name": "ipython",
    "version": 3
   },
   "file_extension": ".py",
   "mimetype": "text/x-python",
   "name": "python",
   "nbconvert_exporter": "python",
   "pygments_lexer": "ipython3",
   "version": "3.10.11"
  }
 },
 "nbformat": 4,
 "nbformat_minor": 5
}
